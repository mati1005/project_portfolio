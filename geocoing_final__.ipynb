{
 "cells": [
  {
   "cell_type": "code",
   "execution_count": 2,
   "metadata": {},
   "outputs": [
    {
     "name": "stderr",
     "output_type": "stream",
     "text": [
      "100%|██████████| 259480/259480 [05:42<00:00, 757.97it/s] \n"
     ]
    }
   ],
   "source": [
    "import pandas as pd\n",
    "import requests\n",
    "import asyncio\n",
    "import aiohttp\n",
    "import nest_asyncio\n",
    "import time\n",
    "from tqdm.asyncio import tqdm_asyncio\n",
    "from tqdm impot tqdm\n",
    "\n",
    "nest_asyncio.apply()\n",
    "\n",
    "client_id = \"\"\n",
    "client_secret = \"\"\n",
    "headers = {\n",
    "    \"X-NCP-APIGW-API-KEY-ID\": client_id,\n",
    "    \"X-NCP-APIGW-API-KEY\": client_secret,\n",
    "}\n",
    "\n",
    "# 좌표 (경도, 위도)를 주소로 변환하는 비동기 함수\n",
    "async def reverse_geocoding(lat, lng, session):\n",
    "    output = \"json\"\n",
    "    coords = f\"{lng},{lat}\"\n",
    "    orders = 'legalcode,admcode,addr,roadaddr'\n",
    "    endpoint = \"https://naveropenapi.apigw.ntruss.com/map-reversegeocode/v2/gc\"\n",
    "    url = f\"{endpoint}?coords={coords}&output={output}&orders={orders}\"\n",
    "    \n",
    "    for i in range(2):\n",
    "        try:\n",
    "            async with session.get(url, headers=headers) as res:\n",
    "                results = await res.json()\n",
    "            results = results['results']\n",
    "            if len(results) == 0:\n",
    "                return None\n",
    "            area1 = results[0]['region']['area1']['name']\n",
    "            area2 = results[0]['region']['area2']['name']\n",
    "            area3 = results[0]['region']['area3']['name']\n",
    "            area4 = results[0]['region']['area4']['name']\n",
    "            addr = area1 + \" \" + area2 + \" \" + area3 + \" \" + area4\n",
    "            return addr\n",
    "        except Exception as e:\n",
    "            return None\n",
    "    return None\n",
    "\n",
    "# 엑셀 파일에서 데이터 로드 후 좌표 정보를 이용해 주소 정보 생성\n",
    "df = pd.read_excel('2023_end.xlsx')\n",
    "df['lat_lng'] = df.apply(lambda row: (row['lat'], row['lng']), axis=1)\n",
    "addresses = []\n",
    "\n",
    "async def main():\n",
    "    async with aiohttp.ClientSession() as session:\n",
    "        tasks = [asyncio.ensure_future(reverse_geocoding(*lat_lng, session)) for lat_lng in df['lat_lng']]\n",
    "        addresses = []\n",
    "        for address in tqdm_asyncio.as_completed(tasks, total=len(tasks)):\n",
    "            addr = await address\n",
    "            addresses.append(addr)\n",
    "        df['address'] = addresses\n",
    "        df.to_excel('geodata_result_end.xlsx', index=False)\n",
    "\n",
    "loop = asyncio.get_event_loop()\n",
    "loop.run_until_complete(main())\n"
   ]
  },
  {
   "cell_type": "code",
   "execution_count": null,
   "metadata": {},
   "outputs": [],
   "source": []
  }
 ],
 "metadata": {
  "kernelspec": {
   "display_name": "base",
   "language": "python",
   "name": "python3"
  },
  "language_info": {
   "codemirror_mode": {
    "name": "ipython",
    "version": 3
   },
   "file_extension": ".py",
   "mimetype": "text/x-python",
   "name": "python",
   "nbconvert_exporter": "python",
   "pygments_lexer": "ipython3",
   "version": "3.9.13"
  },
  "orig_nbformat": 4
 },
 "nbformat": 4,
 "nbformat_minor": 2
}
